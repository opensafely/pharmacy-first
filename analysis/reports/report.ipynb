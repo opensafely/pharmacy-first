{
 "cells": [
  {
   "cell_type": "code",
   "execution_count": 1,
   "metadata": {},
   "outputs": [
    {
     "data": {
      "text/markdown": [
       "# <center>Pharmacy First "
      ],
      "text/plain": [
       "<IPython.core.display.Markdown object>"
      ]
     },
     "metadata": {},
     "output_type": "display_data"
    },
    {
     "data": {
      "text/markdown": [
       "### <center>01-01-2020 through 31-06-2024 by month"
      ],
      "text/plain": [
       "<IPython.core.display.Markdown object>"
      ]
     },
     "metadata": {},
     "output_type": "display_data"
    }
   ],
   "source": [
    "import numpy as np\n",
    "from IPython.display import Markdown\n",
    "from PIL import Image\n",
    "\n",
    "start_date = '01-01-2020'\n",
    "end_date = '31-06-2024'\n",
    "\n",
    "display(Markdown(f'# <center>Pharmacy First '))\n",
    "display(Markdown(f'### <center>{start_date} through {end_date} by month'))"
   ]
  },
  {
   "cell_type": "markdown",
   "metadata": {},
   "source": [
    "<a id=\"background\"></a>\n",
    "\n",
    "## Background\n",
    "\n",
    "Add background here\n",
    "\n",
    "## Methods\n",
    "\n",
    "This study used data from OpenSAFELY-TPP, which covers 40% of the population of England. For a description of the representativeness of this sample, please see our manuscript [here](https://doi.org/10.12688/wellcomeopenres.18010.1). Individuals were included if they were alive and registered at a TPP practice each month, across the study period. Patients were excluded if their listed age was not between 0 and 120 years.\n",
    "\n",
    "Counts represent patients with at least one clinical code of relevence in that month. Patients with more than one of the same clinical code in a month were only counted once. Rates divide the count by the included study population and multiply by 1,000 to achieve a rate per 1,000 registered patients.\n",
    "\n",
    "Counts <=7 have been redacted and all numbers rounded to the nearest 5 to avoid potential re-identification of individuals. The rates displayed were computed with these rounded counts.\n",
    "\n",
    "Our data relies on a relevent Pharmacy First code being added to a patient's GP record. The Pharmacy First service relies on [GP Connect: Update Record](https://digital.nhs.uk/services/gp-connect/gp-connect-in-your-organisation/gp-connect-update-record) to update a patient's GP record with consultation information from the community pharmacy. Following the launch of the Pharmacy First service, there has been a [gradual roll-out of GP Connect: Update Record](https://cpe.org.uk/our-news/gp-connect-update-record-rollout-and-flow-of-information/) across the approved community pharmacy IT system suppliers.\n",
    "\n",
    "*Need to complete this*\n",
    "\n",
    "Links to the codelist for each analysis can be found beneath the relevant section.\n",
    "\n"
   ]
  },
  {
   "cell_type": "markdown",
   "metadata": {},
   "source": [
    "<ul id=\"docNav\">\n",
    "    <p>This report contains the following sections:</p>\n",
    "    <li> <a href=\"#clinical_pathways\">Clinical Pathways</a>\n",
    "        <ul>\n",
    "            <li> <a href=\"#clinical_condition\">Clinical Condition</a></li>\n",
    "            <li> <a href=\"#clinical_condition_days\">Days of the week</a></li>\n",
    "            <li> <a href=\"#clinical_condition_region\">NHS Region</a></li>\n",
    "            <li> <a href=\"#clinical_condition_ethnicity\">Ethnicity</a></li>\n",
    "            <li> <a href=\"#clinical_condition_imd\">IMD</a></li>\n",
    "            <li> <a href=\"#shingles\">Shingles</a>\n",
    "                <ul>\n",
    "                    <li><a href=\"shingles_sex\">Sex</a></li>\n",
    "                    <li><a href=\"shingles_age\">Age</a></li>\n",
    "                    <li><a href=\"shingles_ethnicity\">Ethnicity</a></li>\n",
    "                    <li><a href=\"shingles_imd\">IMD</a></li>\n",
    "                    <li><a href=\"shingles_region\">Region</a></li>\n",
    "                    <li><a href=\"shingles_medication\">Medication supply</a></li>\n",
    "                </ul>\n",
    "            </li>\n",
    "            <li> <a href=\"#uti\">Urinary tract infection etc.</a>\n",
    "            </li> \n",
    "        </ul>\n",
    "    </li>\n",
    "    <li> <a href=\"#hypertension\">Hypertension</a>\n",
    "        <ul>\n",
    "            <li> <a href=\"#\">Age</a></li>\n",
    "            <li> <a href=\"#\">Sex</a></li>\n",
    "            <li> <a href=\"#\">Region</a></li>\n",
    "        </ul>\n",
    "    </li>\n",
    "    <li> <a href=\"#contraception\">Contraception</a>\n",
    "        <ul>\n",
    "            <li> <a href=\"#\">Age</a></li>\n",
    "            <li> <a href=\"#\">Region</a></li>\n",
    "        </ul>\n",
    "    </li>\n",
    "</ul>"
   ]
  },
  {
   "cell_type": "markdown",
   "metadata": {},
   "source": [
    "<a id=\"clinical_pathways\"></a>\n",
    "## Clinical Pathways\n",
    "\n",
    "This section focuses on the Clinical Pathways element of that Pharmacy First service\n"
   ]
  },
  {
   "cell_type": "markdown",
   "metadata": {},
   "source": [
    "### Clinical Condition\n",
    "\n",
    "This section focuses on the clinical conditions within the Clinical Pathways element of that Pharmacy First service"
   ]
  },
  {
   "cell_type": "markdown",
   "metadata": {},
   "source": [
    "<a id=\"clinical_condition\"></a>\n",
    "#### Counts by clinical condition\n",
    "\n",
    "Here we show the number of consultations for each of the Pharmacy First Clinical Pathways Clinical Conditions\n",
    ">LINE CHART WITH COUNT OF EACH CLINICAL CONDITION"
   ]
  },
  {
   "cell_type": "markdown",
   "metadata": {},
   "source": [
    "<a id=\"clinical_condition_days\"></a>\n",
    "#### Counts by day of the week\n",
    "\n",
    "Here we show the number of consultations for the Pharmacy First Clinical Pathways by day of the week the consultation was conducted.\n",
    "(Mainly of interest to show what happens at weekends etc e.g. when GP practices are closed).\n",
    "> BAR CHART WITH COUNT BY DAY OF THE WEEK"
   ]
  },
  {
   "cell_type": "markdown",
   "metadata": {},
   "source": [
    "<a id=\"clinical_condition_region\"></a>\n",
    "#### Rates by region\n",
    "\n",
    "Here we show the rates of consultations for the Pharmacy First Clinical Pathways by the NHS Region in which the patient is registered.\n",
    "(Might not be the region where PF consultation conducted).\n",
    "> RATES OF ANY PF CLINICAL PATHWAY BY REGION"
   ]
  },
  {
   "cell_type": "markdown",
   "metadata": {},
   "source": [
    "<a id=\"clinical_condition_ethnicity\"></a>\n",
    "#### Rates by ethnicity\n",
    "\n",
    "Here we show the rates of consultations for the Pharmacy First Clinical Pathways by patient ethnicity\n",
    "> RATES OF ANY PF CLINICAL PATHWAY BY ETHNICITY"
   ]
  },
  {
   "cell_type": "markdown",
   "metadata": {},
   "source": [
    "<a id=\"clinical_condition_imd\"></a>\n",
    "#### Rates by IMD\n",
    "\n",
    "Here we show the rates of consultations for the Pharmacy First Clinical Pathways by IMD (based on patient address)\n",
    "> RATES OF ANY PF CLINICAL PATHWAY BY IMD"
   ]
  },
  {
   "cell_type": "markdown",
   "metadata": {},
   "source": [
    "<a id=\"shingles\"></a>\n",
    "#### Shingles\n",
    "\n",
    "Here we show the rates specifically for consultations conducted under the Shingles clinical pathway"
   ]
  },
  {
   "cell_type": "markdown",
   "metadata": {},
   "source": [
    "<a id=\"shingles_sex\"></a>\n",
    "##### Rates by sex (I can't make a smaller heading here but this sits under shingles section)\n",
    "Here we show the rates of consultations for the Pharmacy First Shingles Clinical Pathways by sex\n",
    "> RATES OF SHINGLES CLINICAL PATHWAY BY SEX"
   ]
  },
  {
   "cell_type": "markdown",
   "metadata": {},
   "source": [
    "<a id=\"shingles_age\"></a>\n",
    "##### Rates by age\n",
    "Here we show the rates of consultations for the Pharmacy First Shingles Clinical Pathways by age.\n",
    "(Would need to consider age bands as different for each pathway)\n",
    "> RATES OF SHINGLES CLINICAL PATHWAY BY AGE"
   ]
  },
  {
   "cell_type": "markdown",
   "metadata": {},
   "source": [
    "<a id=\"shingles_ethnicity\"></a>\n",
    "##### Rates by ethnicity\n",
    "Here we show the rates of consultations for the Pharmacy First Shingles Clinical Pathways by ethnicity\n",
    "> RATES OF SHINGLES CLINICAL PATHWAY BY ETHNICITY"
   ]
  },
  {
   "cell_type": "markdown",
   "metadata": {},
   "source": [
    "<a id=\"shingles_imd\"></a>\n",
    "##### Rates by IMD\n",
    "Here we show the rates of consultations for the Pharmacy First Shingles Clinical Pathways by IMD\n",
    "> RATES OF SHINGLES CLINICAL PATHWAY BY IMD"
   ]
  },
  {
   "cell_type": "markdown",
   "metadata": {},
   "source": [
    "<a id=\"shingles_region\"></a>\n",
    "##### Rates by region\n",
    "Here we show the rates of consultations for the Pharmacy First Shingles Clinical Pathways by NHS region\n",
    "> RATES OF SHINGLES CLINICAL PATHWAY BY REGION"
   ]
  },
  {
   "cell_type": "markdown",
   "metadata": {},
   "source": [
    "<a id=\"shingles_medication\"></a>\n",
    "##### Rates by medication supply\n",
    "Here we show the percentage of consultations for the Pharmacy First Shingles Clinical Pathways with vs without medication supply.\n",
    "(Could also potentially show details of which medication issued)\n",
    "> BAR PLOT OF PERCENTAGE OF SHINGLES CLINICAL PATHWAY WITH/WITHOUT MEDICATION SUPPLIED"
   ]
  },
  {
   "cell_type": "code",
   "execution_count": null,
   "metadata": {},
   "outputs": [],
   "source": []
  }
 ],
 "metadata": {
  "kernelspec": {
   "display_name": "Python 3 (ipykernel)",
   "language": "python",
   "name": "python3"
  },
  "language_info": {
   "codemirror_mode": {
    "name": "ipython",
    "version": 3
   },
   "file_extension": ".py",
   "mimetype": "text/x-python",
   "name": "python",
   "nbconvert_exporter": "python",
   "pygments_lexer": "ipython3",
   "version": "3.9.13"
  },
  "vscode": {
   "interpreter": {
    "hash": "bcc1f730df8fb5742a3ac26bd3a31839bd02ad4e73a558e52498dfe16975ce60"
   }
  }
 },
 "nbformat": 4,
 "nbformat_minor": 2
}
